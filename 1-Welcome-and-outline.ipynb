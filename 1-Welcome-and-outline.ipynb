{
 "cells": [
  {
   "cell_type": "markdown",
   "id": "39577038-2f53-4a2b-b67f-5ad058f3ce7f",
   "metadata": {},
   "source": [
    "# Welcome to the SASIP demo cloud session ! \n",
    "\n",
    "---\n",
    "## Today's outline:\n",
    "\n",
    "### 1. Intro to this cloud session: \n",
    "First browse [this page](notebooks/1-Intro-jupyter-and-data.ipynb) to learn how to:\n",
    "* get familiar with jupyter notebooks,\n",
    "* see how to access the SASIP data storage, \n",
    "* open netcdf files with the python package xarray.\n",
    "\n",
    "### 2. Run the model:\n",
    "From [this notebook](notebooks/2-Prepare-and-run-NeXtSIM-DG-testcase.ipynb) you will learn how to:\n",
    "* prepare  your first NeXtSIM-DG simulation,\n",
    "* run it.\n",
    "\n",
    "### 3. Plot model outputs:\n",
    "From this [this notebook](notebooks/3-Plot-model-outputs.ipynb) you will  see how to visualize the model outputs you have just produced.\n",
    "\n",
    "---\n",
    "\n",
    "## Important notes:\n",
    "\n",
    "* Beware that you will not be able to RECOVER your own notebooks or modifications today once you have closed your cloud session UNLESS you can synchronize them in a personnal repository in your github. There is a [tuto here](notebooks/4-Tuto-to-SAVE-via-GITHUB.ipynb) explaining the steps for synchronization (_this is not for github beginers, though_) or you can just download a notebook by clicking on `File/Download`.\n",
    "\n",
    "* This cloud is set up permanently, not just for today. So you will be able to access it again and play again with the neXtSIM-DG test cases later on.  We will try to update with more test-cases when the code is developed further.\n",
    "\n",
    "* When you are done using it, stop the server by clicking on `File/Hub Control Panel` and hit the red `Stop My Server` button\n",
    "\n",
    "* __Feel free to ask us if you need help!__\n",
    "\n",
    "---"
   ]
  }
 ],
 "metadata": {
  "kernelspec": {
   "display_name": "Python 3 (ipykernel)",
   "language": "python",
   "name": "python3"
  },
  "language_info": {
   "codemirror_mode": {
    "name": "ipython",
    "version": 3
   },
   "file_extension": ".py",
   "mimetype": "text/x-python",
   "name": "python",
   "nbconvert_exporter": "python",
   "pygments_lexer": "ipython3",
   "version": "3.10.11"
  }
 },
 "nbformat": 4,
 "nbformat_minor": 5
}
