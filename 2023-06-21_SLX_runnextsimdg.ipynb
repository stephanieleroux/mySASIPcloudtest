{
 "cells": [
  {
   "cell_type": "code",
   "execution_count": 2,
   "id": "a1081ee9-eeeb-4332-a03a-d7b1c479778e",
   "metadata": {
    "tags": []
   },
   "outputs": [],
   "source": [
    "#standart libraries\n",
    "import os,sys\n",
    "import numpy as np\n",
    "\n",
    "# xarray\n",
    "import xarray as xr\n",
    "\n",
    "# plot\n",
    "import matplotlib.pyplot as plt\n",
    "from matplotlib import animation\n",
    "from IPython.display import HTML\n",
    "\n",
    "#JUPYTER notebook magics\n",
    "%matplotlib inline "
   ]
  },
  {
   "cell_type": "code",
   "execution_count": 29,
   "id": "9b480fa6-56fd-450e-aadd-7d39b3399d80",
   "metadata": {
    "tags": []
   },
   "outputs": [],
   "source": [
    "# path of the directory where we are going to run the nextsimdg model:\n",
    "dirwo = \"/home/jovyan/work/\""
   ]
  },
  {
   "cell_type": "code",
   "execution_count": 28,
   "id": "1ed3e399-fee3-4ab7-a1c6-b20dfcab99c3",
   "metadata": {
    "tags": []
   },
   "outputs": [],
   "source": [
    "%%bash\n",
    "# now go to this work directory:\n",
    "cd  $dirwo"
   ]
  },
  {
   "cell_type": "code",
   "execution_count": 31,
   "id": "24b6b7ce-6c61-4a8a-ac82-5dfa77b16532",
   "metadata": {
    "tags": []
   },
   "outputs": [
    {
     "name": "stdout",
     "output_type": "stream",
     "text": [
      "25km_NH.ERA5_2010-01-01_2011-01-01.nc\n",
      "25km_NH.smesh\n",
      "25km_NH.TOPAZ4_2010-01-01_2011-01-01.nc\n",
      "config_june23.cfg\n",
      "init_25km_NH.nc\n",
      "nextsim\n",
      "Untitled.ipynb\n"
     ]
    }
   ],
   "source": [
    "%%bash\n",
    "# link the precompiled executable of the nextsimdg model to the work directory\n",
    "ln -sf /usr/local/bin/nextsim /home/jovyan/work/\n",
    "\n",
    "# link the forcing files for atmospheric (ERA5) and ocean (TOPAZ)  boundary conditions to the work directory\n",
    "ln -sf /data/model-forcings/25km_NH.TOPAZ4_2010-01-01_2011-01-01.nc .\n",
    "ln -sf /data/model-forcings/25km_NH.ERA5_2010-01-01_2011-01-01.nc .\n",
    "\n",
    "# link the mesh file to the work directory\n",
    "ln -sf ../nextsimdg/run/25km_NH.smesh \n",
    "\n",
    "# link the initial conditions  to the work directory\n",
    "ln -sf ../nextsimdg/run/init_25km_NH.nc .\n",
    "\n",
    "# list files in the work directory as a check:\n",
    "ls"
   ]
  },
  {
   "cell_type": "markdown",
   "id": "a6629981-983a-4c30-a374-2005c8b95efc",
   "metadata": {},
   "source": [
    "* Write the config file (parameters for the simulation)\n",
    "The cell below will create a text file named `config_june23.cfg`in the current directory and edit with the necessary parameters to run the model:"
   ]
  },
  {
   "cell_type": "code",
   "execution_count": 32,
   "id": "863b96a8-2927-45d8-9a46-7863eb213b15",
   "metadata": {
    "tags": []
   },
   "outputs": [
    {
     "name": "stdout",
     "output_type": "stream",
     "text": [
      "Overwriting ./config_june23.cfg\n"
     ]
    }
   ],
   "source": [
    "%%writefile ./config_june23.cfg\n",
    "\n",
    "[model]\n",
    "init_file = init_25km_NH.nc\n",
    "start = 2010-01-01T00:00:00Z\n",
    "stop = 2010-01-05T00:00:00Z\n",
    "time_step = P0-0T00:15:00\n",
    "\n",
    "\n",
    "[Modules]\n",
    "Nextsim::IDiagnosticOutput = Nextsim::ConfigOutput\n",
    "Nextsim::IDynamics = Nextsim::DummyDynamics\n",
    "Nextsim::IIceThermodynamics = Nextsim::ThermoWinton\n",
    "Nextsim::IAtmosphereBoundary = Nextsim::ERA5Atmosphere\n",
    "Nextsim::IOceanBoundary = Nextsim::TOPAZOcean\n",
    "\n",
    "[ConfigOutput]\n",
    "period = P0-1T0:00:00\n",
    "start = 2010-01-01T00:00:00Z\n",
    "field_names = hsnow,hice,tice,cice\n",
    "filename = 2010_nextsimdg-output.nc\n",
    "\n",
    "[ERA5Atmosphere]\n",
    "file = 25km_NH.ERA5_2010-01-01_2011-01-01.nc\n",
    "\n",
    "[TOPAZOcean]\n",
    "file = 25km_NH.TOPAZ4_2010-01-01_2011-01-01.nc"
   ]
  },
  {
   "cell_type": "markdown",
   "id": "dcf1d519-6a15-4f8d-9853-92d458fb8b03",
   "metadata": {},
   "source": [
    "* Re-open this text file without editing as a check"
   ]
  },
  {
   "cell_type": "code",
   "execution_count": 33,
   "id": "f05397b9-0f0d-42ec-a618-26d3d2ec7777",
   "metadata": {
    "tags": []
   },
   "outputs": [
    {
     "name": "stdout",
     "output_type": "stream",
     "text": [
      "\n",
      "[model]\n",
      "init_file = init_25km_NH.nc\n",
      "start = 2010-01-01T00:00:00Z\n",
      "stop = 2010-01-05T00:00:00Z\n",
      "time_step = P0-0T00:15:00\n",
      "\n",
      "\n",
      "[Modules]\n",
      "Nextsim::IDiagnosticOutput = Nextsim::ConfigOutput\n",
      "Nextsim::IDynamics = Nextsim::DummyDynamics\n",
      "Nextsim::IIceThermodynamics = Nextsim::ThermoWinton\n",
      "Nextsim::IAtmosphereBoundary = Nextsim::ERA5Atmosphere\n",
      "Nextsim::IOceanBoundary = Nextsim::TOPAZOcean\n",
      "\n",
      "[ConfigOutput]\n",
      "period = P0-1T0:00:00\n",
      "start = 2010-01-01T00:00:00Z\n",
      "field_names = hsnow,hice,tice,cice\n",
      "filename = 2010_nextsimdg-output.nc\n",
      "\n",
      "[ERA5Atmosphere]\n",
      "file = 25km_NH.ERA5_2010-01-01_2011-01-01.nc\n",
      "\n",
      "[TOPAZOcean]\n",
      "file = 25km_NH.TOPAZ4_2010-01-01_2011-01-01.nc\n"
     ]
    }
   ],
   "source": [
    "%%sh\n",
    "cat ./config_june23.cfg"
   ]
  },
  {
   "cell_type": "code",
   "execution_count": 13,
   "id": "26a3e86c-55e4-425a-b3f1-f7a6dfebb305",
   "metadata": {
    "tags": []
   },
   "outputs": [
    {
     "name": "stderr",
     "output_type": "stream",
     "text": [
      "sh: 1: ./run_june23.sh: not found\n"
     ]
    },
    {
     "name": "stdout",
     "output_type": "stream",
     "text": [
      "total 16\n",
      "-rw-r--r-- 1 jovyan pr-sasip   642 Jun 21 04:08 config_june23.cfg\n",
      "-rw-r--r-- 1 jovyan pr-sasip 10726 Jun 21 04:09 Untitled.ipynb\n"
     ]
    }
   ],
   "source": [
    "%%sh\n",
    "./run_june23.sh\n",
    "ls -lrt"
   ]
  },
  {
   "cell_type": "code",
   "execution_count": null,
   "id": "03215cd4-ceb5-4b93-8630-c295214ceac8",
   "metadata": {},
   "outputs": [],
   "source": []
  }
 ],
 "metadata": {
  "kernelspec": {
   "display_name": "Python 3 (ipykernel)",
   "language": "python",
   "name": "python3"
  },
  "language_info": {
   "codemirror_mode": {
    "name": "ipython",
    "version": 3
   },
   "file_extension": ".py",
   "mimetype": "text/x-python",
   "name": "python",
   "nbconvert_exporter": "python",
   "pygments_lexer": "ipython3",
   "version": "3.10.11"
  }
 },
 "nbformat": 4,
 "nbformat_minor": 5
}
