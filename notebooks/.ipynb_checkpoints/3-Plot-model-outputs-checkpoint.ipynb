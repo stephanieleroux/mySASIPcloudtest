{
 "cells": [
  {
   "cell_type": "markdown",
   "id": "3f9ac9fe-c048-47af-82ff-82b7f895d7e2",
   "metadata": {},
   "source": [
    "## 3. Let's have a look at the NeXtSIM-DG outputs: \n",
    "\n",
    "In this notebook you will: \n",
    "* 3.1 Load python libraries,\n",
    "* 3.2 Load the land/sea mask and initial conditions,\n",
    "* 3.3 Plot land/sea mask and SST initial conditions,\n",
    "* 3.4 Load and plot the  model outputs files."
   ]
  },
  {
   "cell_type": "markdown",
   "id": "8abbf9e3-78b9-406d-81bc-8c9d68417212",
   "metadata": {},
   "source": [
    "---\n",
    "## 3.1 Load python libraries"
   ]
  },
  {
   "cell_type": "code",
   "execution_count": null,
   "id": "8b864cbe-effe-4c9f-94ba-550c62f521ed",
   "metadata": {},
   "outputs": [],
   "source": [
    "## standart libraries\n",
    "import os,sys\n",
    "import numpy as np\n",
    "\n",
    "# xarray\n",
    "import xarray as xr\n",
    "\n",
    "# plot\n",
    "import matplotlib.pyplot as plt\n",
    "import matplotlib.cm as cm\n",
    "from matplotlib import animation\n",
    "from IPython.display import HTML\n",
    "\n",
    "#JUPYTER notebook magics\n",
    "%matplotlib inline "
   ]
  },
  {
   "cell_type": "markdown",
   "id": "3d277f46-5a08-4ece-9bda-0efacbbbb9dd",
   "metadata": {},
   "source": [
    "---\n",
    "## 3.2. Load the land/sea mask and initial conditions\n",
    "from file : `init_25km_NH.nc`."
   ]
  },
  {
   "cell_type": "markdown",
   "id": "818cae0b-6e62-4f58-aa73-7d1bc35b61c1",
   "metadata": {},
   "source": [
    "* Path where the model  files are:"
   ]
  },
  {
   "cell_type": "code",
   "execution_count": null,
   "id": "33c1e7ec-be28-42b8-b6d2-b46d81a2b656",
   "metadata": {},
   "outputs": [],
   "source": [
    "dirwo = \"/home/jovyan/work/\""
   ]
  },
  {
   "cell_type": "markdown",
   "id": "88dda646-eef4-46ec-90be-ac2a94aab5a7",
   "metadata": {},
   "source": [
    "* read the initial data:"
   ]
  },
  {
   "cell_type": "code",
   "execution_count": null,
   "id": "3d542538-82ea-4b55-8b0b-2cfdacded264",
   "metadata": {},
   "outputs": [],
   "source": [
    "datinit= xr.open_dataset(dirwo+'/init_25km_NH.nc',group='data')\n",
    "datinit"
   ]
  },
  {
   "cell_type": "markdown",
   "id": "8b678f32-7fcc-4df6-8ee4-fab90d897417",
   "metadata": {},
   "source": [
    "_Note:_ that the \"group\" option is necessary to read the files (netcdf4 format)."
   ]
  },
  {
   "cell_type": "markdown",
   "id": "6feaa815-5fe7-4937-82ad-4d3f5e4185be",
   "metadata": {},
   "source": [
    "---\n",
    "## 3.3 Plot land/sea mask and SST initial conditions"
   ]
  },
  {
   "cell_type": "markdown",
   "id": "da2dbd77-9454-4ac6-909f-020735d8afba",
   "metadata": {},
   "source": [
    "* Land sea mask:"
   ]
  },
  {
   "cell_type": "code",
   "execution_count": null,
   "id": "f6a753e6-83b1-47f0-aab7-f390b13943e0",
   "metadata": {},
   "outputs": [],
   "source": [
    "fig,(ax) = plt.subplots(1, 1, figsize=[9, 6],facecolor='w')\n",
    "p = ax.pcolormesh(datinit.mask,cmap='seismic_r')\n",
    "plt.colorbar(p,label='LAND/SEA MASK')\n",
    "plt.show\n",
    "plt.close"
   ]
  },
  {
   "cell_type": "markdown",
   "id": "723d66fe-6364-4600-9a33-a5877e208267",
   "metadata": {},
   "source": [
    "* plot SST in initial conditions"
   ]
  },
  {
   "cell_type": "code",
   "execution_count": null,
   "id": "c2d32ea6-3c69-4b77-93d4-b21233744f84",
   "metadata": {},
   "outputs": [],
   "source": [
    "data2plt = datinit.sst\n",
    "data2plt_masked = data2plt.where(datinit.mask!=0)\n",
    "\n",
    "cmap = cm.viridis\n",
    "cmap.set_bad('gray',1.)\n",
    "\n",
    "fig,(ax) = plt.subplots(1, 1, figsize=[9, 6],facecolor='w')\n",
    "p = ax.pcolormesh(data2plt_masked,cmap=cmap,vmin=-2,vmax=5,)\n",
    "plt.colorbar(p,label='SST initial conditions',extend='both')\n",
    "plt.show\n",
    "plt.close"
   ]
  },
  {
   "cell_type": "markdown",
   "id": "3bf15f91-f6af-417b-9ec3-440e006c9307",
   "metadata": {},
   "source": [
    "---\n",
    "## 3.4 Load and plot the  model outputs files \n"
   ]
  },
  {
   "cell_type": "code",
   "execution_count": null,
   "id": "f9fdc171-39c4-4768-802b-8e37f9f929ec",
   "metadata": {},
   "outputs": [],
   "source": [
    "outputs= xr.open_dataset(dirwo+'/output_shortsimu.nc',group='data')\n",
    "outputs"
   ]
  },
  {
   "cell_type": "markdown",
   "id": "f05e9673-aa52-4caa-8229-ae5ef2541f60",
   "metadata": {},
   "source": [
    "### 3.4.a Animate the evolution of the simulated sea ice concentration "
   ]
  },
  {
   "cell_type": "code",
   "execution_count": null,
   "id": "df64400f-b51f-4e71-8f3e-e44b6236aed8",
   "metadata": {},
   "outputs": [],
   "source": [
    "# Number of timesteps in the output file\n",
    "NTIME = outputs.time.size\n",
    "\n",
    "# select colormap and set gray color for missing values (i.e. for land)\n",
    "cmap = cm.bone\n",
    "cmap.set_bad('gray',1.)\n",
    "\n",
    "# select sea ice concentration\n",
    "data2plt = outputs.cice\n",
    "# mask  land so that it appears gray\n",
    "data2plt_masked = data2plt.where(datinit.mask!=0)\n",
    "\n",
    "\n",
    "fig,(ax) = plt.subplots(1, 1, figsize=[9, 6],facecolor='w')\n",
    "it=0\n",
    "p = ax.pcolormesh(data2plt_masked.isel(time=it),vmin=0,vmax=1,cmap=cmap)\n",
    "plt.colorbar(p,label='sea ice concentration',extend='both')\n",
    "\n",
    "\n",
    "def animate(it):\n",
    "    p.set_array(data2plt_masked.isel(time=it))\n",
    "    p.set_label('test '+str(it))\n",
    "    return p,\n",
    "\n",
    "def init():\n",
    "    p.set_array(data2plt_masked.isel(t=0))\n",
    "    return p,\n",
    "\n",
    "ani = animation.FuncAnimation(fig=fig,\n",
    "                              func=animate,\n",
    "                              frames=NTIME,\n",
    "                              interval=1,\n",
    "                              blit=True)\n",
    "\n",
    "HTML(ani.to_jshtml())"
   ]
  },
  {
   "cell_type": "markdown",
   "id": "015f44ed-2584-4de4-bedb-8c8be3492fbe",
   "metadata": {},
   "source": [
    "### 3.4.b Animate the evolution of the simulated sea ice height "
   ]
  },
  {
   "cell_type": "code",
   "execution_count": null,
   "id": "28c108d8-90bc-4211-89c0-ec1cfda31512",
   "metadata": {},
   "outputs": [],
   "source": [
    "# Number of timesteps in the output file\n",
    "NTIME = outputs.time.size\n",
    "\n",
    "# select colormap and set gray color for missing values (i.e. for land)\n",
    "cmap = cm.inferno\n",
    "cmap.set_bad('gray',1.)\n",
    "\n",
    "# select sea ice height\n",
    "data2plt = outputs.hice\n",
    "# mask  land so that it appears gray\n",
    "data2plt_masked = data2plt.where(datinit.mask!=0)\n",
    "\n",
    "\n",
    "fig,(ax) = plt.subplots(1, 1, figsize=[9, 6],facecolor='w')\n",
    "it=0\n",
    "p = ax.pcolormesh(data2plt_masked.isel(time=it),vmin=0,vmax=4,cmap=cmap)\n",
    "plt.colorbar(p,label='sea ice height (m)',extend='both')\n",
    "\n",
    "\n",
    "def animate(it):\n",
    "    p.set_array(data2plt_masked.isel(time=it))\n",
    "    p.set_label('test '+str(it))\n",
    "    return p,\n",
    "\n",
    "def init():\n",
    "    p.set_array(data2plt_masked.isel(t=0))\n",
    "    return p,\n",
    "\n",
    "ani = animation.FuncAnimation(fig=fig,\n",
    "                              func=animate,\n",
    "                              frames=NTIME,\n",
    "                              interval=1,\n",
    "                              blit=True)\n",
    "\n",
    "HTML(ani.to_jshtml())"
   ]
  },
  {
   "cell_type": "markdown",
   "id": "384b9bfc",
   "metadata": {},
   "source": [
    "---\n",
    "## 3.5 What's next ?"
   ]
  },
  {
   "cell_type": "markdown",
   "id": "bac18101",
   "metadata": {},
   "source": [
    "--> You can design your own vizualization or explore the SASIP catalog to produce more beautiful pictures !!"
   ]
  }
 ],
 "metadata": {
  "kernelspec": {
   "display_name": "Python 3 (ipykernel)",
   "language": "python",
   "name": "python3"
  },
  "language_info": {
   "codemirror_mode": {
    "name": "ipython",
    "version": 3
   },
   "file_extension": ".py",
   "mimetype": "text/x-python",
   "name": "python",
   "nbconvert_exporter": "python",
   "pygments_lexer": "ipython3",
   "version": "3.9.7"
  }
 },
 "nbformat": 4,
 "nbformat_minor": 5
}
