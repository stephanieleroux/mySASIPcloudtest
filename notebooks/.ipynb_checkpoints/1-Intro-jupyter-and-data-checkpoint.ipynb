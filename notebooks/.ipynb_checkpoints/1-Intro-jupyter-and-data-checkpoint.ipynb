{
 "cells": [
  {
   "cell_type": "markdown",
   "id": "6969a3e1-d9f3-4973-b6a5-5568e156e244",
   "metadata": {},
   "source": [
    "# Introduction to jupyter notebooks and how to access SASIP data\n",
    "\n"
   ]
  },
  {
   "cell_type": "markdown",
   "id": "1f791a93-59e2-43c7-ba47-0ac05b613768",
   "metadata": {},
   "source": [
    "---\n",
    "## 1. (Very) quick intro to jupyter notebooks\n",
    "\n",
    "* For detailed documentation, see here: https://jupyter-notebook.readthedocs.io/en/stable/.\n",
    "\n",
    "* **In short, in a jupyter notebook, each \"cell\" like this one  is either for python code (or bash command) or just for text (in markdown).**\n",
    "\n",
    "* An example of a code cell is given below. You can run by clicking on the \"play\" triangle above, or do __SHIFT+ENTER__ after selecting the cell to run:"
   ]
  },
  {
   "cell_type": "code",
   "execution_count": null,
   "id": "3afcf4a0-30e7-46ea-be76-bd4c3b6c82c6",
   "metadata": {},
   "outputs": [],
   "source": [
    "# this is python code:\n",
    "\n",
    "a = 4\n",
    "b = 5\n",
    "c = a+b\n",
    "print(c)"
   ]
  },
  {
   "cell_type": "markdown",
   "id": "3d8728b5-0609-4e8f-9a0a-11b232f5e0f3",
   "metadata": {},
   "source": [
    "* you can import python packages this way:"
   ]
  },
  {
   "cell_type": "code",
   "execution_count": null,
   "id": "5c7d6211-bef1-4d83-948d-5ea9afbeb356",
   "metadata": {},
   "outputs": [],
   "source": [
    "## standart libraries\n",
    "import os,sys\n",
    "import numpy as np\n",
    "\n",
    "# xarray\n",
    "import xarray as xr\n",
    "\n",
    "# plot\n",
    "import matplotlib.pyplot as plt\n",
    "import matplotlib.cm as cm\n",
    "from matplotlib import animation\n",
    "import matplotlib.colors as mcolors\n",
    "from mpl_toolkits.axes_grid1.inset_locator import inset_axes\n",
    "from IPython.display import HTML\n",
    "\n",
    "#JUPYTER notebook magics\n",
    "%matplotlib inline "
   ]
  },
  {
   "cell_type": "markdown",
   "id": "499cd7e7-36b1-4a2f-a224-e053a0d70328",
   "metadata": {},
   "source": [
    "* you can also run `bash` commands by starting the given cell by `%%bash` :"
   ]
  },
  {
   "cell_type": "code",
   "execution_count": null,
   "id": "cfc16131-7060-47d5-b247-6b5d5a127a3d",
   "metadata": {},
   "outputs": [],
   "source": [
    "%%bash\n",
    "\n",
    "ls -lt"
   ]
  },
  {
   "cell_type": "markdown",
   "id": "89d9f488-6ff5-4466-8093-e34fa1af3d6d",
   "metadata": {},
   "source": [
    "---\n",
    "## 2. How to access SASIP data ?\n",
    "\n",
    "Easy ! It has been mounted to be accessed in this cloud session. Just have a look at  `/data/`:"
   ]
  },
  {
   "cell_type": "code",
   "execution_count": null,
   "id": "4744ce98-3bf5-4e30-a6e7-c014f4ddadea",
   "metadata": {},
   "outputs": [],
   "source": [
    "ls /data/"
   ]
  },
  {
   "cell_type": "markdown",
   "id": "47875985-3dd7-4e6f-954a-4e25819d5a90",
   "metadata": {},
   "source": [
    "* You can navigate through the data (also documented in the SASIP catalog (https://github.com/sasip-climate/catalog-shared-data-SASIP/blob/main/catalog-details.md).\n",
    "\n",
    "For example, lets have a look at : `/data/model-outputs/neXtSIM-standalone/` (some model outputs produced with the Lagrangian version of the sea ice model NeXtSIM):"
   ]
  },
  {
   "cell_type": "code",
   "execution_count": null,
   "id": "4df1a19a-bd32-4b4d-944e-2b7e9e2a844c",
   "metadata": {},
   "outputs": [],
   "source": [
    "ls /data/model-outputs/neXtSIM-standalone/"
   ]
  },
  {
   "cell_type": "markdown",
   "id": "7bcb0036-c030-47d8-a551-8998fa834cd8",
   "metadata": {},
   "source": [
    "* Now let's load one of those files (let's load the sea ice \"damage\" for example):"
   ]
  },
  {
   "cell_type": "code",
   "execution_count": null,
   "id": "fcb94aa1-6573-4b23-bfda-04e2f08a34dd",
   "metadata": {},
   "outputs": [],
   "source": [
    "diridat = \"/data/model-outputs/neXtSIM-standalone/\"\n",
    "fili    = \"Moorings_2006d062.nc\"\n",
    "\n",
    "dam = xr.open_dataset(diridat+fili)\n",
    "dam"
   ]
  },
  {
   "cell_type": "markdown",
   "id": "d6280cb2-5c90-4961-8728-24f775da7062",
   "metadata": {},
   "source": [
    "* Plot it"
   ]
  },
  {
   "cell_type": "code",
   "execution_count": null,
   "id": "c28f5d04-ac4e-4fb7-b4f2-07c48593f04d",
   "metadata": {},
   "outputs": [],
   "source": [
    "it=0\n",
    "data2plt = dam[\"damage\"].isel(time=0)\n",
    "data2plt_masked = data2plt.where((data2plt<100))\n",
    "\n",
    "cmap = cm.inferno\n",
    "cmap.set_bad('gray',1.)\n",
    "\n",
    "norm = mcolors.PowerNorm(gamma=4.5,vmin=0, vmax=1)\n",
    "\n",
    "fig,(ax) = plt.subplots(1, 1, figsize=[9, 8.5],facecolor='w')\n",
    "\n",
    "p = ax.pcolormesh(data2plt,cmap=cmap)\n",
    "\n",
    "#plt.colorbar(p,label='sea ice damage',extend='both')\n",
    "\n",
    "# colorbar\n",
    "cblev=[0,0.7,0.8,0.85,0.9,0.95,0.99]\n",
    "axins1 = inset_axes(ax,\n",
    "                        height=\"10%\",  # height : 5%\n",
    "                            width=\"50%\",\n",
    "                        bbox_to_anchor=(0.08, -0.1,0.9,0.2),\n",
    "                        bbox_transform=ax.transAxes,\n",
    "                        borderpad=0)\n",
    "cb = fig.colorbar(cm.ScalarMappable(norm=norm, cmap=cmap),\n",
    "             cax=axins1, orientation='horizontal',ticks=cblev,label='sea ice damage')\n",
    "\n",
    "plt.show"
   ]
  },
  {
   "cell_type": "markdown",
   "id": "93513edf",
   "metadata": {},
   "source": [
    "---\n",
    "## 3. What's next ?"
   ]
  },
  {
   "cell_type": "markdown",
   "id": "6de1b964",
   "metadata": {},
   "source": [
    "--> You can now learn how to run neXtSIM-DG with the [next notebook (2-Prepare-and-run-NeXtSIM-DG-testcase.ipynb)](2-Prepare-and-run-NeXtSIM-DG-testcase.ipynb) "
   ]
  }
 ],
 "metadata": {
  "kernelspec": {
   "display_name": "Python 3 (ipykernel)",
   "language": "python",
   "name": "python3"
  },
  "language_info": {
   "codemirror_mode": {
    "name": "ipython",
    "version": 3
   },
   "file_extension": ".py",
   "mimetype": "text/x-python",
   "name": "python",
   "nbconvert_exporter": "python",
   "pygments_lexer": "ipython3",
   "version": "3.9.7"
  }
 },
 "nbformat": 4,
 "nbformat_minor": 5
}
