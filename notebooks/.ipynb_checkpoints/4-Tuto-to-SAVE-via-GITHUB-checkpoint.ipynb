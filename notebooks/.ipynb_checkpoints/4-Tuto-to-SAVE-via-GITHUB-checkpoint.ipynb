{
 "cells": [
  {
   "cell_type": "markdown",
   "id": "8460b7f4-7556-4abe-a4fd-726b2094de08",
   "metadata": {},
   "source": [
    "# How to save my work from this cloud to my github?\n",
    "\n",
    "Beware that you will not be able to SAVE your own notebooks today once you have closed your cloud session. If you want to save your work you need to synchronize it with a  repository in your github. \n",
    "\n",
    "This tuto explains how:"
   ]
  },
  {
   "cell_type": "markdown",
   "id": "bfe7dd2a-92d2-4f2f-93e5-8c416da90419",
   "metadata": {},
   "source": [
    "* On the cloud, click on the plus sign to launch a terminal window.\n",
    "\n",
    "* Generate a ssh key with `ssh-keygen` and press enter 3 times.\n",
    "\n",
    "* Open your SSH-key with `cat .ssh/id_rsa.pub `and copy it\n",
    "\n",
    "* On your github account, click on the top right icon and select settings, then click on SSH and GPG keys, then New SSH, fill the Title field and paste your SSK key in the Key field.\n",
    "\n",
    "* Now create a new repository on your github and copy the SSH clone adress (IMPORTANT: copy the SSH path, it starts with `git@github.com:`)\n",
    "\n",
    "* Back to your cloud session, in the terminal, clone the repo with `git clone git@github.com:your-new-repo-name`\n",
    "\n",
    "* Move your notebooks in it and push it back on github with `git add *`, then `git commit -m 'your comment'` and then `git push`\n",
    "It will ask you to run `git config --global user.email \"you@example.com\"` and `git config --global user.name \"Your Name\"` before the commit. Once it is done, you are able to synchronize your cloud notebooks with your github repo. Yay!\n"
   ]
  }
 ],
 "metadata": {
  "kernelspec": {
   "display_name": "Python 3 (ipykernel)",
   "language": "python",
   "name": "python3"
  },
  "language_info": {
   "codemirror_mode": {
    "name": "ipython",
    "version": 3
   },
   "file_extension": ".py",
   "mimetype": "text/x-python",
   "name": "python",
   "nbconvert_exporter": "python",
   "pygments_lexer": "ipython3",
   "version": "3.9.7"
  }
 },
 "nbformat": 4,
 "nbformat_minor": 5
}
