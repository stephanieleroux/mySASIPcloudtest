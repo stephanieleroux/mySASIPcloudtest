{
 "cells": [
  {
   "cell_type": "markdown",
   "id": "4e4e47df-d70b-4c6d-aa00-b2b1a1c854c4",
   "metadata": {},
   "source": [
    "## Let's prepare and run a (pre-compiled) test-case with the sea ice model neXtSIM-DG\n",
    "\n",
    "In this notebook you will: \n",
    "* 2.1 Load python libraries,\n",
    "* 2.2 Prepare the work directory,\n",
    "* 2.3 Create and edit a configuration file that set various parameters of the model,\n",
    "* 2.4 Run the model for a 5-day simulation !"
   ]
  },
  {
   "cell_type": "markdown",
   "id": "623d997c-d8db-4858-8378-f65504cf80c1",
   "metadata": {},
   "source": [
    "---\n",
    "## 2.1 Load python libraries"
   ]
  },
  {
   "cell_type": "code",
   "execution_count": 1,
   "id": "a14da8d7-07aa-4528-b9f1-3e0cf1c113a9",
   "metadata": {},
   "outputs": [],
   "source": [
    "#standart libraries\n",
    "import os,sys\n",
    "import numpy as np\n",
    "\n",
    "# xarray\n",
    "import xarray as xr\n",
    "\n",
    "# plot\n",
    "import matplotlib.pyplot as plt\n",
    "import matplotlib.cm as cm\n",
    "from matplotlib import animation\n",
    "from IPython.display import HTML\n",
    "\n",
    "#JUPYTER notebook magics\n",
    "%matplotlib inline "
   ]
  },
  {
   "cell_type": "markdown",
   "id": "fa0c7ddf-4d56-45e0-ade3-48fd4a3bda6a",
   "metadata": {},
   "source": [
    "---\n",
    "## 2.2 Prepare the work directory \n",
    "(where the model is going to be run)"
   ]
  },
  {
   "cell_type": "markdown",
   "id": "cfced3b9-843b-4611-9444-e5945e887c34",
   "metadata": {},
   "source": [
    "* **Set path of the work directory:**"
   ]
  },
  {
   "cell_type": "code",
   "execution_count": 2,
   "id": "010266ed-3954-4001-a982-dff2a76915b2",
   "metadata": {},
   "outputs": [],
   "source": [
    "# path of the work directory:\n",
    "dirwo = \"/home/jovyan/work/\""
   ]
  },
  {
   "cell_type": "markdown",
   "id": "7ab5ecfb-a204-4a20-8102-2e30bf71f8e9",
   "metadata": {},
   "source": [
    "* **go to this directory:**\n",
    "\n",
    "(for now it is empty)"
   ]
  },
  {
   "cell_type": "code",
   "execution_count": 3,
   "id": "ec4164a5-3d8b-4a5e-b38b-049f25d229ca",
   "metadata": {},
   "outputs": [
    {
     "name": "stdout",
     "output_type": "stream",
     "text": [
      "/home/jovyan/work\n"
     ]
    }
   ],
   "source": [
    "cd  $dirwo"
   ]
  },
  {
   "cell_type": "markdown",
   "id": "e8905c84-5f84-4823-b2be-a428e99d6934",
   "metadata": {},
   "source": [
    "* **Links to files**: We then need to run the following lines (bash script) to make link to the various files we need (model executable, forcing, mesh, initial conditions) to our current directory.\n",
    "\n",
    "_Note:_ the first line `%%bash` indicates that the above cell is written in bash (default is python)"
   ]
  },
  {
   "cell_type": "code",
   "execution_count": 4,
   "id": "ee669430-796e-4354-8df0-9f838aca52e2",
   "metadata": {},
   "outputs": [
    {
     "name": "stdout",
     "output_type": "stream",
     "text": [
      "25km_NH.ERA5_2010-01-01_2011-01-01.nc\n",
      "25km_NH_newmask.smesh\n",
      "25km_NH.TOPAZ4_2010-01-01_2011-01-01.nc\n",
      "init_25km_NH.nc\n",
      "nextsim\n"
     ]
    }
   ],
   "source": [
    "%%bash\n",
    "\n",
    "# link the precompiled executable of the nextsimdg model to the work directory\n",
    "ln -sf /usr/local/bin/nextsim .\n",
    "\n",
    "# link the forcing files for atmospheric (ERA5) and ocean (TOPAZ)  boundary conditions to the work directory\n",
    "ln -sf /data/model-forcings/25km_NH.TOPAZ4_2010-01-01_2011-01-01.nc .\n",
    "ln -sf /data/model-forcings/25km_NH.ERA5_2010-01-01_2011-01-01.nc .\n",
    "\n",
    "# link the mesh file to the work directory\n",
    "ln -sf ../nextsimdg/run/25km_NH_newmask.smesh \n",
    "\n",
    "# link the initial conditions  to the work directory\n",
    "ln -sf ../nextsimdg/run/init_25km_NH.nc .\n",
    "\n",
    "# list files in the work directory as a check:\n",
    "ls"
   ]
  },
  {
   "cell_type": "markdown",
   "id": "e15714ae-2eb5-43b8-9950-54bb57205bf2",
   "metadata": {},
   "source": [
    "---\n",
    "## 2.3 Create and edit a configuration file that set various parameters of the model\n",
    "\n",
    "_Note:_ the first line of the cell below ( `%%writefile ./config_myfirsttestcase.cfg` ) will create  a file of this name and write the following text in it. If a previous file already exists with same name it will be over-written."
   ]
  },
  {
   "cell_type": "code",
   "execution_count": 5,
   "id": "5e1a3b3a-f524-4ee0-b454-66b53b5a5d80",
   "metadata": {},
   "outputs": [
    {
     "name": "stdout",
     "output_type": "stream",
     "text": [
      "Writing ./config_myfirsttestcase.cfg\n"
     ]
    }
   ],
   "source": [
    "%%writefile ./config_myfirsttestcase.cfg\n",
    "\n",
    "[model]\n",
    "init_file = init_25km_NH.nc\n",
    "start = 2010-01-01T00:00:00Z\n",
    "stop = 2010-01-05T00:00:00Z\n",
    "time_step = P0-0T00:20:00\n",
    "\n",
    "\n",
    "[Modules]\n",
    "Nextsim::IDiagnosticOutput = Nextsim::ConfigOutput\n",
    "Nextsim::IDynamics = Nextsim::Dynamics\n",
    "Nextsim::IIceThermodynamics = Nextsim::ThermoWinton\n",
    "Nextsim::IAtmosphereBoundary = Nextsim::ERA5Atmosphere\n",
    "Nextsim::IOceanBoundary = Nextsim::FluxConfiguredOcean\n",
    "\n",
    "\n",
    "[ConfigOutput]\n",
    "period = P0-0T12:00:00\n",
    "start = 2010-01-01T00:00:00Z\n",
    "field_names = hsnow,hice,tice,cice\n",
    "filename = output_simudyn_5d.nc\n",
    "\n",
    "[ERA5Atmosphere]\n",
    "file = 25km_NH.ERA5_2010-01-01_2011-01-01.nc\n",
    "\n",
    "[TOPAZOcean]\n",
    "file = 25km_NH.TOPAZ4_2010-01-01_2011-01-01.nc\n",
    "\n",
    "[FluxConfiguredOcean]\n",
    "qio = 2.0\n",
    "sss = 36.36\n",
    "sst = -1.9998\n",
    "mld = 10.\n",
    "current_u = 0.\n",
    "current_v = 0."
   ]
  },
  {
   "cell_type": "markdown",
   "id": "d1c41ff9-58dd-468b-9866-4366976b0e8c",
   "metadata": {},
   "source": [
    "* In the `[model]` section, the file above indicates the dates at which the model will start and stop the simulation with the `start`and `stop`parameters. The `time_step` is also set (here it is set to 1 hour).\n",
    "* The `[Module]`section is where you set which physics, thermodynamics, forcing modules you want to activate for this run.\n",
    "    * We  activate the `Dynamics` module, which includes DG advection.\n",
    "    * We also activate the thermodynamics based on Winton (2000 ).\n",
    "    * We will use ERA5 atmospheric forcing from files prepared by Tim (file names set in the `[ERA5Atmosphere]` section).\n",
    "    * We will use a constant ocean specified in the `[FluxConfiguredOcean]`section.\n",
    "* The `[ConfigOutput]` section is where you set which kind of outputs you save from the simulation. \n",
    "    * Today we will save 4 variables of the sea ice state: `hsnow`,`hice`,`tice`,`cice` (snow height, ice thickness, ice temperature, ice concentration resp.) every day (the `period` parameter)."
   ]
  },
  {
   "cell_type": "markdown",
   "id": "cd750904-fa3b-4807-9e39-2f9e396864f6",
   "metadata": {},
   "source": [
    "_Note:_ if you want to re-open this config file to read the parameters, just as a check, you can do:"
   ]
  },
  {
   "cell_type": "code",
   "execution_count": 6,
   "id": "6c2fc73f-d92f-40c4-bd65-db5313a51a73",
   "metadata": {},
   "outputs": [
    {
     "name": "stdout",
     "output_type": "stream",
     "text": [
      "\n",
      "[model]\n",
      "init_file = init_25km_NH.nc\n",
      "start = 2010-01-01T00:00:00Z\n",
      "stop = 2010-01-05T00:00:00Z\n",
      "time_step = P0-0T00:20:00\n",
      "\n",
      "\n",
      "[Modules]\n",
      "Nextsim::IDiagnosticOutput = Nextsim::ConfigOutput\n",
      "Nextsim::IDynamics = Nextsim::Dynamics\n",
      "Nextsim::IIceThermodynamics = Nextsim::ThermoWinton\n",
      "Nextsim::IAtmosphereBoundary = Nextsim::ERA5Atmosphere\n",
      "Nextsim::IOceanBoundary = Nextsim::FluxConfiguredOcean\n",
      "\n",
      "\n",
      "[ConfigOutput]\n",
      "period = P0-0T12:00:00\n",
      "start = 2010-01-01T00:00:00Z\n",
      "field_names = hsnow,hice,tice,cice\n",
      "filename = output_simudyn_5d.nc\n",
      "\n",
      "[ERA5Atmosphere]\n",
      "file = 25km_NH.ERA5_2010-01-01_2011-01-01.nc\n",
      "\n",
      "[TOPAZOcean]\n",
      "file = 25km_NH.TOPAZ4_2010-01-01_2011-01-01.nc\n",
      "\n",
      "[FluxConfiguredOcean]\n",
      "qio = 2.0\n",
      "sss = 36.36\n",
      "sst = -1.9998\n",
      "mld = 10.\n",
      "current_u = 0.\n",
      "current_v = 0.\n"
     ]
    }
   ],
   "source": [
    "%%bash\n",
    "cat ./config_myfirsttestcase.cfg"
   ]
  },
  {
   "cell_type": "markdown",
   "id": "b2f574c5-70c0-440a-8bdb-aa9872a35c51",
   "metadata": {},
   "source": [
    "---\n",
    "## 2.4 Run the model !\n",
    "\n",
    "We are now all set to run our first simulation with the NeXtSIM-DG model! \n",
    "\n",
    "To do so, simply run the `nextsim` executable with the config file as it is done in the cell below. \n",
    "\n",
    "It should take about 5 minutes to run our test-case (5-day simulation). When it is done, you will see the list of the files in the directory. A new file should have been created: `output_simudyn_5d.nc` that contains the evolution of sea ice simulated by the model over the period we just set."
   ]
  },
  {
   "cell_type": "code",
   "execution_count": 7,
   "id": "436c41ab-4b06-4458-b28a-3e38308209fa",
   "metadata": {},
   "outputs": [
    {
     "name": "stdout",
     "output_type": "stream",
     "text": [
      "/home/jovyan/work\n",
      "------------------------------------\n",
      "Yay! NeXtSIM-DG is running !........\n",
      "------------------------------------\n",
      "total 12468\n",
      "lrwxrwxrwx 1 jovyan pr-sasip      22 Jun 26 20:01 nextsim -> /usr/local/bin/nextsim\n",
      "lrwxrwxrwx 1 jovyan pr-sasip      60 Jun 26 20:01 25km_NH.TOPAZ4_2010-01-01_2011-01-01.nc -> /data/model-forcings/25km_NH.TOPAZ4_2010-01-01_2011-01-01.nc\n",
      "lrwxrwxrwx 1 jovyan pr-sasip      38 Jun 26 20:01 25km_NH_newmask.smesh -> ../nextsimdg/run/25km_NH_newmask.smesh\n",
      "lrwxrwxrwx 1 jovyan pr-sasip      58 Jun 26 20:01 25km_NH.ERA5_2010-01-01_2011-01-01.nc -> /data/model-forcings/25km_NH.ERA5_2010-01-01_2011-01-01.nc\n",
      "lrwxrwxrwx 1 jovyan pr-sasip      32 Jun 26 20:01 init_25km_NH.nc -> ../nextsimdg/run/init_25km_NH.nc\n",
      "-rw-r--r-- 1 jovyan pr-sasip     743 Jun 26 20:01 config_myfirsttestcase.cfg\n",
      "-rw-r--r-- 1 jovyan pr-sasip 2076697 Jun 26 20:01 landmask1.00000.vtk\n",
      "-rw-r--r-- 1 jovyan pr-sasip 2076697 Jun 26 20:01 boundary1.00000.vtk\n",
      "-rw-r--r-- 1 jovyan pr-sasip   24682 Jun 26 20:07 stdout.asc\n",
      "-rw-r--r-- 1 jovyan pr-sasip 1367291 Jun 26 20:07 restart.nc\n",
      "-rw-r--r-- 1 jovyan pr-sasip 7193281 Jun 26 20:07 output_simudyn_5d.nc\n",
      "-rw-r--r-- 1 jovyan pr-sasip     703 Jun 26 20:07 nextsim.20:02:39.log\n"
     ]
    }
   ],
   "source": [
    "%%bash\n",
    "\n",
    "pwd \n",
    "\n",
    "echo \"------------------------------------\"\n",
    "echo \"Yay! NeXtSIM-DG is running !........\"\n",
    "echo \"------------------------------------\"\n",
    "\n",
    "./nextsim --config-file config_myfirsttestcase.cfg \"$@\" > stdout.asc\n",
    "\n",
    "ls -lrt"
   ]
  },
  {
   "cell_type": "markdown",
   "id": "8c3ff118-c51e-4d7d-b682-01cdadc934e5",
   "metadata": {},
   "source": [
    "---\n",
    "## 2.5 What's next ?"
   ]
  },
  {
   "cell_type": "markdown",
   "id": "1ce3585d-7c68-4cde-a502-5963ff0ce513",
   "metadata": {},
   "source": [
    "--> You can now have a look at your first model outputs with the [next notebook (3-Plot-model-outputs.ipynb)](3-Plot-model-outputs.ipynb) "
   ]
  },
  {
   "cell_type": "code",
   "execution_count": null,
   "id": "03ce8a7d-da7b-4427-a03e-b7777b3666ed",
   "metadata": {},
   "outputs": [],
   "source": []
  }
 ],
 "metadata": {
  "kernelspec": {
   "display_name": "Python 3 (ipykernel)",
   "language": "python",
   "name": "python3"
  },
  "language_info": {
   "codemirror_mode": {
    "name": "ipython",
    "version": 3
   },
   "file_extension": ".py",
   "mimetype": "text/x-python",
   "name": "python",
   "nbconvert_exporter": "python",
   "pygments_lexer": "ipython3",
   "version": "3.10.11"
  }
 },
 "nbformat": 4,
 "nbformat_minor": 5
}
